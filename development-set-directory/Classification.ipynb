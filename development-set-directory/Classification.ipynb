{
 "cells": [
  {
   "cell_type": "code",
   "execution_count": 1,
   "metadata": {
    "collapsed": true
   },
   "outputs": [],
   "source": [
    "import pandas as pd\n",
    "import matplotlib.pyplot as plt\n",
    "import numpy as np"
   ]
  },
  {
   "cell_type": "code",
   "execution_count": null,
   "metadata": {
    "collapsed": true
   },
   "outputs": [],
   "source": []
  },
  {
   "cell_type": "code",
   "execution_count": 3,
   "metadata": {
    "collapsed": false
   },
   "outputs": [
    {
     "name": "stdout",
     "output_type": "stream",
     "text": [
      "(16602, 3)\n",
      "16602\n"
     ]
    }
   ],
   "source": [
    "dataset=pd.read_csv(\"dataset.csv\")\n",
    "print(dataset.shape)\n",
    "data_size=len(dataset)\n",
    "print (data_size)"
   ]
  },
  {
   "cell_type": "code",
   "execution_count": null,
   "metadata": {
    "collapsed": true
   },
   "outputs": [],
   "source": []
  },
  {
   "cell_type": "code",
   "execution_count": 4,
   "metadata": {
    "collapsed": true
   },
   "outputs": [],
   "source": [
    "import re\n",
    "import nltk\n",
    "from urllib.parse import urlparse\n",
    "#nltk.download('stopwords')\n",
    "from nltk.corpus import stopwords\n",
    "from nltk.stem.porter import PorterStemmer\n",
    "\n",
    "corpus=[]\n",
    "\n",
    "for i in range(0,data_size):\n",
    "    tweet=dataset['text'][i]\n",
    "    \n",
    "    tweet = re.sub('[^a-zA-Z]', ' ', dataset['text'][i])\n",
    "    tweet=tweet.lower()\n",
    "    tweet=tweet.split()\n",
    "    ps=PorterStemmer()\n",
    "    tweet=[ps.stem(word) for word in tweet if word not in set(stopwords.words('english')) and len(word)>2]\n",
    "    tweet=' '.join(tweet)\n",
    "    corpus.append(tweet)\n",
    "    \n",
    "    "
   ]
  },
  {
   "cell_type": "code",
   "execution_count": 5,
   "metadata": {
    "collapsed": false
   },
   "outputs": [
    {
     "name": "stdout",
     "output_type": "stream",
     "text": [
      "1050357\n",
      "nepal nsent whatsapp http cla kaa\n"
     ]
    }
   ],
   "source": [
    "words=[]\n",
    "for i in corpus:\n",
    "    for word in i:\n",
    "        words.append(i)\n",
    "print (len(words))\n",
    "print ((corpus[0]))"
   ]
  },
  {
   "cell_type": "code",
   "execution_count": 6,
   "metadata": {
    "collapsed": true
   },
   "outputs": [],
   "source": [
    "import collections\n",
    "counter=collections.Counter(words)\n",
    "common=counter.most_common(50)\n",
    "common_words=[]\n",
    "for i in range(0,50):\n",
    "    wo=common[i][0].split()\n",
    "    for w in wo:\n",
    "        common_words.append(w)"
   ]
  },
  {
   "cell_type": "code",
   "execution_count": 7,
   "metadata": {
    "collapsed": false
   },
   "outputs": [
    {
     "name": "stdout",
     "output_type": "stream",
     "text": [
      "585\n",
      "359\n",
      "['even', 'relief', 'alamgirizvi', 'loss', 'pvindian', 'properti', 'part', 'appeal', 'mimarathinew', 'mani', 'bengal', 'ijaideep', 'drunkvinodmehta', 'run', 'action', 'understandin', 'assam', 'say', 'deepli', 'simmilar', 'bihar', 'nriot', 'guindi', 'spoonia', 'miss', 'depict', 'etc', 'aftr', 'crack', 'airlift', 'sagarikaghos', 'read', 'armi', 'fallen', 'sleepless', 'ravindraambekar', 'love', 'dmk', 'moron', 'shahidkapoor', 'sikhism', 'affect', 'maharaj', 'hit', 'facebook', 'come', 'launch', 'tulsidasbhoit', 'anandmahindra', 'busi', 'bless', 'nepalearthquak', 'realli', 'leader', 'neighbour', 'hinder', 'year', 'confirm', 'famili', 'cpi', 'respond', 'locat', 'allow', 'unit', 'donat', 'sabha', 'eastern', 'aftershock', 'east', 'drbsinsa', 'bainjal', 'occurrenc', 'work', 'http', 'cow', 'daili', 'forward', 'rajasthan', 'friend', 'ngolden', 'next', 'right', 'break', 'bike', 'thi', 'johngreen', 'indiawithnep', 'highest', 'instanc', 'mp', 'meet', 'googleindia', 'manishtamak', 'philip', 'nepal', 'pleas', 'shreerangkhar', 'across', 'msghelpearthquakevictim', 'wait', 'murder', 'googl', 'hey', 'offer', 'rahul', 'news', 'mahparamushtaq', 'gurudwara', 'magic', 'plzzzz', 'cut', 'alert', 'medianorm', 'hsukovaftq', 'ntsunami', 'shweta', 'ground', 'gurdwara', 'global', 'templ', 'utl', 'wreck', 'grace', 'chairman', 'food', 'pondychrri', 'live', 'blood', 'nribbon', 'nflood', 'ilariaurbinati', 'million', 'delhi', 'manag', 'pictur', 'gurdeepinsan', 'local', 'insan', 'show', 'odisha', 'valu', 'word', 'one', 'wid', 'jii', 'aadmi', 'exec', 'feku', 'good', 'freehrd', 'spread', 'secretari', 'land', 'high', 'eat', 'held', 'nearthquak', 'di', 'foreignoffic', 'dheeruinsan', 'cnni', 'icashmir', 'hcz', 'victim', 'powr', 'sitaram', 'gurmeetra', 'visibl', 'tent', 'msghelpsearthquakevictim', 'drspagarw', 'guru', 'nearli', 'zczebzfb', 'non', 'servic', 'derasachasauda', 'anxieti', 'pac', 'sinceer', 'offic', 'pmoindia', 'readi', 'earthquak', 'safeti', 'help', 'hectar', 'well', 'yechuri', 'janamejayan', 'aaam', 'sadhvi', 'still', 'research', 'countri', 'dhan', 'nread', 'nepalquak', 'msghelpearthquak', 'gajrajinsan', 'need', 'person', 'aid', 'vadapalani', 'resilienc', 'msghe', 'sanjaybafna', 'modigovern', 'sad', 'madhumarasini', 'angel', 'via', 'worst', 'india', 'neetuupadhyay', 'throb', 'indian', 'remind', 'ipckf', 'plane', 'gujarat', 'condol', 'heart', 'expressfrontpag', 'text', 'aasra', 'tremor', 'namo', 'suppli', 'expect', 'felt', 'area', 'sooo', 'children', 'yday', 'yard', 'vri', 'develop', 'ekendra', 'foreign', 'deserv', 'mbpztxkqwu', 'bhardwaj', 'event', 'garg', 'track', 'massiv', 'gurmeetramrahim', 'ministri', 'warn', 'govt', 'dear', 'mlkhattar', 'effort', 'farmer', 'expedit', 'volunt', 'pwrful', 'pogcl', 'chennai', 'tanuj', 'hahahahhahahhaha', 'visit', 'hammond', 'ekta', 'kanimozhi', 'rajya', 'iamsrk', 'rekha', 'pack', 'riaztheboss', 'lakh', 'pic', 'hindutva', 'prachi', 'give', 'water', 'due', 'tera', 'unicef', 'must', 'mnomic', 'nfor', 'world', 'low', 'rememb', 'whr', 'laugh', 'rapid', 'wing', 'ishaanstwitr', 'contribut', 'handl', 'measur', 'grief', 'suicid', 'complement', 'finder', 'financ', 'himalaya', 'dss', 'growth', 'havoc', 'includ', 'poin', 'apjabdulkalam', 'sever', 'support', 'respect', 'sath', 'donor', 'savethechildren', 'selfless', 'team', 'golden', 'disast', 'gandhi', 'disgrac', 'ccsqoqbz', 'link', 'shock', 'send', 'report', 'sakshi', 'appreciat', 'redcross', 'ksushma', 'ord', 'meal', 'post', 'indianexpress', 'friendli', 'anitajoshua', 'roll', 'jharkhand', 'ndrf', 'load', 'check', 'rescu', 'realpreityzinta', 'kedarnath', 'north', 'htt', 'kudo', 'kill', 'watsan', 'northern', 'pitaji', 'fund', 'strong', 'rock', 'satguru', 'pl', 'urg', 'everest', 'indiatoday', 'amp', 'che', 'media']\n"
     ]
    }
   ],
   "source": [
    "print (len(common_words))\n",
    "common_words=list(set(common_words))\n",
    "print (len(common_words))\n",
    "print (common_words)"
   ]
  },
  {
   "cell_type": "code",
   "execution_count": 8,
   "metadata": {
    "collapsed": true
   },
   "outputs": [],
   "source": [
    "imp_words=['medic','need','give','relief','fund','food','donat','aid','water','meal','send','offer','financ','blood']\n"
   ]
  },
  {
   "cell_type": "code",
   "execution_count": 9,
   "metadata": {
    "collapsed": false
   },
   "outputs": [
    {
     "name": "stdout",
     "output_type": "stream",
     "text": [
      "346\n"
     ]
    }
   ],
   "source": [
    "common_words=[i for i in common_words if i not in imp_words]\n",
    "print (len(common_words))"
   ]
  },
  {
   "cell_type": "code",
   "execution_count": 10,
   "metadata": {
    "collapsed": true
   },
   "outputs": [],
   "source": [
    "final_corpus=[]\n",
    "for i in corpus:\n",
    "    final_corpus.append(' '.join([w for w in i.split() if w not in common_words]))"
   ]
  },
  {
   "cell_type": "code",
   "execution_count": 11,
   "metadata": {
    "collapsed": false
   },
   "outputs": [
    {
     "name": "stdout",
     "output_type": "stream",
     "text": [
      "634402\n"
     ]
    }
   ],
   "source": [
    "words=[]\n",
    "for i in final_corpus:\n",
    "    for word in i:\n",
    "        words.append(i)\n",
    "print (len(words))"
   ]
  },
  {
   "cell_type": "code",
   "execution_count": null,
   "metadata": {
    "collapsed": true
   },
   "outputs": [],
   "source": []
  },
  {
   "cell_type": "code",
   "execution_count": 12,
   "metadata": {
    "collapsed": false
   },
   "outputs": [
    {
     "name": "stdout",
     "output_type": "stream",
     "text": [
      "16602\n",
      "14257\n",
      "14257\n"
     ]
    }
   ],
   "source": [
    "Y=dataset.iloc[:,2].values\n",
    "Y=list(Y)\n",
    "print (len(final_corpus))\n",
    "seen = set()\n",
    "result = []\n",
    "removed_indices=[]\n",
    "for i in range(0,data_size):\n",
    "    if final_corpus[i] not in seen:\n",
    "        seen.add(final_corpus[i])\n",
    "        result.append(final_corpus[i])\n",
    "    else:\n",
    "        removed_indices.insert(0,i)\n",
    "final_corpus=result\n",
    "for i in removed_indices:\n",
    "    del(Y[i])\n",
    "print (len(final_corpus))\n",
    "print (len(Y))"
   ]
  },
  {
   "cell_type": "code",
   "execution_count": null,
   "metadata": {
    "collapsed": true
   },
   "outputs": [],
   "source": []
  },
  {
   "cell_type": "code",
   "execution_count": 13,
   "metadata": {
    "collapsed": false
   },
   "outputs": [
    {
     "name": "stdout",
     "output_type": "stream",
     "text": [
      "875\n"
     ]
    }
   ],
   "source": [
    "count=0\n",
    "for i in Y:\n",
    "    if i==2 or i==1:\n",
    "        count+=1\n",
    "print (count)\n"
   ]
  },
  {
   "cell_type": "code",
   "execution_count": 14,
   "metadata": {
    "collapsed": false
   },
   "outputs": [
    {
     "name": "stdout",
     "output_type": "stream",
     "text": [
      "875\n"
     ]
    }
   ],
   "source": [
    "delIndex=[]\n",
    "l=len(Y)\n",
    "c=0\n",
    "for i in range(0,l):\n",
    "    if(Y[i]==0):\n",
    "        if(c==count):\n",
    "            delIndex=[i]+delIndex\n",
    "        else:\n",
    "            c+=1\n",
    "for i in delIndex:\n",
    "    final_corpus.pop(i)\n",
    "    Y.pop(i)\n",
    "print(c)"
   ]
  },
  {
   "cell_type": "code",
   "execution_count": 15,
   "metadata": {
    "collapsed": false
   },
   "outputs": [
    {
     "name": "stdout",
     "output_type": "stream",
     "text": [
      "1750\n",
      "1750\n"
     ]
    }
   ],
   "source": [
    "print(len(final_corpus))\n",
    "print(len(Y))"
   ]
  },
  {
   "cell_type": "code",
   "execution_count": 14,
   "metadata": {
    "collapsed": false
   },
   "outputs": [
    {
     "name": "stdout",
     "output_type": "stream",
     "text": [
      "(46921, 2)\n",
      "46921\n"
     ]
    }
   ],
   "source": [
    "testset=pd.read_csv(\"TestDataset.csv\")\n",
    "print(testset.shape)\n",
    "data_size=len(testset)\n",
    "print (data_size)"
   ]
  },
  {
   "cell_type": "code",
   "execution_count": 15,
   "metadata": {
    "collapsed": true
   },
   "outputs": [],
   "source": [
    "import re\n",
    "import nltk\n",
    "from urllib.parse import urlparse\n",
    "#nltk.download('stopwords')\n",
    "from nltk.corpus import stopwords\n",
    "from nltk.stem.porter import PorterStemmer\n",
    "\n",
    "testdata=[]\n",
    "\n",
    "for i in range(0,data_size):\n",
    "    tweet=testset['text'][i]\n",
    "    \n",
    "    tweet = re.sub('[^a-zA-Z]', ' ', testset['text'][i])\n",
    "    tweet=tweet.lower()\n",
    "    tweet=tweet.split()\n",
    "    ps=PorterStemmer()\n",
    "    tweet=[ps.stem(word) for word in tweet if word not in set(stopwords.words('english')) and len(word)>2]\n",
    "    tweet=' '.join(tweet)\n",
    "    testdata.append(tweet)\n",
    "    \n",
    "    "
   ]
  },
  {
   "cell_type": "code",
   "execution_count": null,
   "metadata": {
    "collapsed": true
   },
   "outputs": [],
   "source": []
  },
  {
   "cell_type": "code",
   "execution_count": 19,
   "metadata": {
    "collapsed": false
   },
   "outputs": [
    {
     "data": {
      "text/plain": [
       "['model.pkl',\n",
       " 'model.pkl_01.npy',\n",
       " 'model.pkl_02.npy',\n",
       " 'model.pkl_03.npy',\n",
       " 'model.pkl_04.npy',\n",
       " 'model.pkl_05.npy',\n",
       " 'model.pkl_06.npy',\n",
       " 'model.pkl_07.npy',\n",
       " 'model.pkl_08.npy',\n",
       " 'model.pkl_09.npy',\n",
       " 'model.pkl_10.npy',\n",
       " 'model.pkl_11.npy',\n",
       " 'model.pkl_12.npy',\n",
       " 'model.pkl_13.npy']"
      ]
     },
     "execution_count": 19,
     "metadata": {},
     "output_type": "execute_result"
    }
   ],
   "source": [
    "from sklearn.pipeline import Pipeline,FeatureUnion\n",
    "from sklearn import feature_selection\n",
    "import numpy as np\n",
    "from sklearn.feature_extraction.text import CountVectorizer\n",
    "from sklearn.naive_bayes import MultinomialNB\n",
    "from sklearn.svm import LinearSVC\n",
    "from sklearn import tree\n",
    "from sklearn.feature_extraction.text import TfidfTransformer,TfidfVectorizer\n",
    "from sklearn.externals import joblib\n",
    "\n",
    "LinearSVC1 = LinearSVC(tol=1e-4,  C = 0.10000000000000001)\n",
    "f5 = feature_selection.RFE(estimator=LinearSVC1, n_features_to_select=1000, step=1)\n",
    "\n",
    "pipeline=Pipeline([\n",
    "    #('vectorizer',  CountVectorizer()),\n",
    "    ('features', FeatureUnion([\n",
    "       ('tfidf', TfidfVectorizer(ngram_range=(1, 2), max_features= 6000))])), \n",
    "    ('rfe_feature_selection', f5),\n",
    "    #('classifier', LinearSVC1),\n",
    "    #])\n",
    "    ('tfidf_transformer',  TfidfTransformer()),\n",
    "    ('classifier',  tree.DecisionTreeClassifier()) ])\n",
    "pipeline.fit(final_corpus,Y)\n",
    "joblib.dump(pipeline,\"model.pkl\")"
   ]
  },
  {
   "cell_type": "code",
   "execution_count": 16,
   "metadata": {
    "collapsed": false
   },
   "outputs": [],
   "source": [
    "from sklearn.externals import joblib\n",
    "pipeline=joblib.load(\"model.pkl\")\n",
    "y_pred=pipeline.predict(testdata)\n"
   ]
  },
  {
   "cell_type": "code",
   "execution_count": 17,
   "metadata": {
    "collapsed": false
   },
   "outputs": [],
   "source": [
    "y_prob=pipeline.predict_proba(testdata)"
   ]
  },
  {
   "cell_type": "markdown",
   "metadata": {},
   "source": []
  },
  {
   "cell_type": "code",
   "execution_count": 18,
   "metadata": {
    "collapsed": false
   },
   "outputs": [
    {
     "name": "stdout",
     "output_type": "stream",
     "text": [
      "0.0357142857143\n"
     ]
    }
   ],
   "source": [
    "print (y_prob[0][2])"
   ]
  },
  {
   "cell_type": "code",
   "execution_count": 33,
   "metadata": {
    "collapsed": true
   },
   "outputs": [],
   "source": [
    "support=pipeline.named_steps['rfe_feature_selection'].support_\n",
    "feature_names = pipeline.named_steps['features'].get_feature_names()"
   ]
  },
  {
   "cell_type": "code",
   "execution_count": 12,
   "metadata": {
    "collapsed": false
   },
   "outputs": [
    {
     "data": {
      "text/plain": [
       "True"
      ]
     },
     "execution_count": 12,
     "metadata": {},
     "output_type": "execute_result"
    }
   ],
   "source": [
    "import graphviz\n",
    "import pydotplus\n",
    "from sklearn import tree\n",
    "from sklearn.externals.six import StringIO\n",
    "dot_data = StringIO()\n",
    "tree.export_graphviz(pipeline.named_steps['classifier'],out_file=dot_data,feature_names=feature_names,class_names=['0','1','2'],filled=True, rounded=True,special_characters=True) \n",
    "pydotplus.graph_from_dot_data(dot_data.getvalue()).write_png(\"finaltree.png\")"
   ]
  },
  {
   "cell_type": "code",
   "execution_count": 19,
   "metadata": {
    "collapsed": false
   },
   "outputs": [
    {
     "name": "stdout",
     "output_type": "stream",
     "text": [
      "46921\n"
     ]
    }
   ],
   "source": [
    "print (len(y_pred))"
   ]
  },
  {
   "cell_type": "code",
   "execution_count": 20,
   "metadata": {
    "collapsed": false
   },
   "outputs": [
    {
     "name": "stdout",
     "output_type": "stream",
     "text": [
      "44910\n",
      "397\n",
      "1614\n"
     ]
    }
   ],
   "source": [
    "count0=0\n",
    "count1=0\n",
    "count2=0\n",
    "for i in y_pred:\n",
    "    if i==0:\n",
    "        count0+=1\n",
    "    elif i==1:\n",
    "        count1+=1\n",
    "    elif i==2:\n",
    "        count2+=1\n",
    "print (count0)\n",
    "print (count1)\n",
    "print (count2)"
   ]
  },
  {
   "cell_type": "code",
   "execution_count": 21,
   "metadata": {
    "collapsed": false
   },
   "outputs": [
    {
     "name": "stdout",
     "output_type": "stream",
     "text": [
      "[[593751207719505921, 1, 1.0], [594833996405559297, 1, 1.0], [593553292501725185, 1, 1.0], [593996914347155456, 1, 1.0], [593502082092507137, 1, 1.0], [594789612918300672, 1, 1.0], [596936492573831168, 1, 1.0], [592748514003820545, 1, 1.0], [593302252493889536, 1, 1.0], [594506824910409730, 1, 1.0], [595254028050661376, 1, 1.0], [595075980185587713, 1, 1.0], [593685714337947648, 1, 1.0], [597345198285262848, 1, 1.0], [592747661092069377, 1, 1.0], [592934350880153600, 1, 1.0], [596917804688748544, 1, 1.0], [594880329493557248, 1, 1.0], [593382490699501569, 1, 1.0], [593093678752751617, 1, 1.0], [595134747132604417, 1, 1.0], [593660153938870272, 1, 1.0], [597315318751600640, 1, 1.0], [592996118386049026, 1, 1.0], [593091447424876546, 1, 1.0], [595963821497417729, 1, 1.0], [592751186152919042, 1, 1.0], [595043229940068352, 1, 1.0], [594329817794904065, 1, 1.0], [594495480458977280, 1, 1.0], [593218321409015809, 1, 1.0], [593286305779421184, 1, 1.0], [593698861673123840, 1, 1.0], [593094051534020608, 1, 1.0], [593590429670514688, 1, 1.0], [595470035541303297, 1, 1.0], [595982746524078080, 1, 1.0], [593297257417428993, 1, 1.0], [594580635072659456, 1, 1.0], [592922891764633600, 1, 1.0], [595148422547542016, 1, 1.0], [593349986680614912, 1, 1.0], [593435055617404928, 1, 1.0], [596332716028604417, 1, 1.0], [595116458952130560, 1, 1.0], [595105850349506560, 1, 1.0], [593307401853530112, 1, 1.0], [595777401289867264, 1, 1.0], [593598254467719168, 1, 1.0], [592962573663744001, 1, 1.0], [596593222882754560, 1, 1.0], [592994813609312256, 1, 1.0], [593303847851991040, 1, 1.0], [596761790618275840, 1, 1.0], [594312527481147393, 1, 1.0], [592737371881349122, 1, 1.0], [594793516150235136, 1, 1.0], [592749637196521473, 1, 1.0], [594767296796594176, 1, 1.0], [593497064610344960, 1, 1.0], [593101916650938369, 1, 1.0], [593236502999486464, 1, 1.0], [592715035723624448, 1, 1.0], [595490933027819521, 1, 1.0], [593427057943650304, 1, 1.0], [594710583867498497, 1, 1.0], [594095707512012801, 1, 1.0], [596701072921505794, 1, 1.0], [595209626259357696, 1, 1.0], [593714172774330368, 1, 1.0], [596655427837775873, 1, 1.0], [593774196078981120, 1, 1.0], [592976139527696384, 1, 1.0], [592894367137996801, 1, 1.0], [594899383029768192, 1, 1.0], [594443485329035265, 1, 1.0], [597346682448289792, 1, 1.0], [594503420280573952, 1, 1.0], [594009258175266816, 1, 1.0], [592890587398971392, 1, 1.0], [594490042514472960, 1, 1.0], [592999263011020802, 1, 1.0], [594383267618402304, 1, 1.0], [592848743151575042, 1, 1.0], [594497811699236864, 1, 1.0], [594440912928903168, 1, 1.0], [594370894643929088, 1, 1.0], [592702284007612416, 1, 1.0], [592739111661887488, 1, 1.0], [593463493023629312, 1, 1.0], [594165976049946625, 1, 1.0], [596624503662374913, 1, 1.0], [593680413379268608, 1, 1.0], [594837430408073216, 1, 1.0], [595479789856751618, 1, 1.0], [593134311550930946, 1, 1.0], [592701335885209600, 1, 1.0], [593743966052442112, 1, 1.0], [594185575923462144, 1, 1.0], [593355157641043969, 1, 1.0], [593700943977254912, 1, 1.0], [593281724680929282, 1, 1.0], [593315596344827905, 1, 1.0], [592868242282143744, 1, 1.0], [593103590383702016, 1, 1.0], [595433694493483010, 1, 1.0], [592725390092804099, 1, 1.0], [592940611986010112, 1, 1.0], [593932332475686912, 1, 1.0], [592927015986040832, 1, 1.0], [594536364944728064, 1, 1.0], [592948113247113216, 1, 1.0], [594346128503676929, 1, 1.0], [595136050504212480, 1, 1.0], [593062909518872576, 1, 1.0], [592944607475814400, 1, 1.0], [595192472474517505, 1, 1.0], [594893224168259584, 1, 1.0], [594505470041137152, 1, 1.0], [593661809468448768, 1, 1.0], [593490208475209728, 1, 1.0], [593442760968904704, 1, 1.0], [592965976985067520, 1, 1.0], [593626406040502272, 1, 1.0], [593032622663704577, 1, 1.0], [592996250808528896, 1, 1.0], [596287935483252737, 1, 1.0], [593743633347530752, 1, 1.0], [595795431499632640, 1, 1.0], [593650327573790720, 1, 1.0], [594396707565113345, 1, 1.0], [594045818480381952, 1, 1.0], [592978784548061184, 1, 1.0], [594150621382488064, 1, 1.0], [595463154454269953, 1, 1.0], [593490546288664578, 1, 1.0], [594064520315674625, 1, 1.0], [594880971704373248, 1, 1.0], [593129616639832066, 1, 1.0], [592934560918151168, 1, 1.0], [597366491403530240, 1, 1.0], [596845034407759873, 1, 1.0], [594077688270204928, 1, 1.0], [594776392362897408, 1, 1.0], [593441644218744834, 1, 1.0], [594230058430017537, 1, 1.0], [594149597624279040, 1, 1.0], [593488742368813057, 1, 1.0], [596594648824459264, 1, 1.0], [594751888765026304, 1, 1.0], [592870965627002881, 1, 1.0], [593120188674940928, 1, 1.0], [596340282280382464, 1, 1.0], [593376735661465601, 1, 1.0], [597143889368064001, 1, 1.0], [593573934777421825, 1, 1.0], [597344153232482305, 1, 1.0], [593349808867250176, 1, 1.0], [593248440697630720, 1, 1.0], [593487430143082496, 1, 1.0], [594466563538849793, 1, 1.0], [595508030252298241, 1, 1.0], [594119589107228672, 1, 1.0], [594243678283010048, 1, 1.0], [593062261729538048, 1, 1.0], [594573101603508225, 1, 1.0], [592702362558603269, 1, 1.0], [595550921720995840, 1, 1.0], [596611221463273473, 1, 1.0], [594178932854816768, 1, 1.0], [596234385428381696, 1, 1.0], [592936992809287680, 1, 1.0], [593087066566565890, 1, 1.0], [594115621715054592, 1, 1.0], [597189251193655296, 1, 1.0], [593990251476951041, 1, 1.0], [594739709118533632, 1, 1.0], [594136831140229122, 1, 1.0], [595825649820028928, 1, 1.0], [594373586649010177, 1, 1.0], [592704684151934977, 1, 1.0], [594890046836178945, 1, 1.0], [592905057257037825, 1, 1.0], [592700810380877824, 1, 1.0], [592724828131598336, 1, 1.0], [592943874345074688, 1, 1.0], [595651190261751808, 1, 1.0], [593113554552651777, 1, 1.0], [595064615630802945, 1, 1.0], [594811776585183232, 1, 1.0], [594379229363474433, 1, 1.0], [592717721420308481, 1, 1.0], [592758358693781504, 1, 1.0], [594490368596447232, 1, 1.0], [593083291130929152, 1, 1.0], [593597730829701120, 1, 1.0], [596303018976378880, 1, 1.0], [593112015398273024, 1, 1.0], [592924870603894784, 1, 1.0], [592735854193471489, 1, 1.0], [593292679548665857, 1, 1.0], [594362503137656833, 1, 1.0], [592915804259102720, 1, 1.0], [593843745444900865, 1, 1.0], [593760288358301696, 1, 1.0], [592960334341668864, 1, 1.0], [593017786974150656, 1, 1.0], [593362166448685056, 1, 1.0], [594036425894440962, 1, 1.0], [592954711201816576, 1, 1.0], [592814776121692160, 1, 1.0], [593108673452384256, 1, 1.0], [594344566196604928, 1, 1.0], [593293651230347265, 1, 1.0], [594321019344588800, 1, 1.0], [593893948873113601, 1, 1.0], [593437118413705216, 1, 1.0], [593685210903945216, 1, 1.0], [592741981283086336, 1, 1.0], [596255547793547265, 1, 1.0], [594028449431429120, 1, 1.0], [593927918645940224, 1, 1.0], [593644791470034944, 1, 1.0], [592893533188661251, 1, 1.0], [593750201413795840, 1, 1.0], [593000419669856256, 1, 1.0], [594039331200827392, 1, 1.0], [593042705862778880, 1, 1.0], [595197306648940544, 1, 1.0], [594010644027871232, 1, 1.0], [597255065867550721, 1, 1.0], [592984090757955584, 1, 1.0], [593763103105363968, 1, 1.0], [596640333120700416, 1, 1.0], [595136513895194624, 1, 1.0], [593424989690449920, 1, 1.0], [596982517804044288, 1, 1.0], [593356786008096770, 1, 1.0], [595631667735199744, 1, 1.0], [594165026979614721, 1, 1.0], [592864673130754048, 1, 1.0], [595225357713707008, 1, 1.0], [593762597201018880, 1, 1.0], [595424426511990785, 1, 1.0], [594860568822951936, 1, 1.0], [592941333855109120, 1, 1.0], [593838424685182977, 1, 1.0], [592989355314032640, 1, 1.0], [593716830759362561, 1, 1.0], [593105773523312642, 1, 1.0], [594894983401902080, 1, 1.0], [597080268067840000, 1, 1.0], [593010309343748096, 1, 1.0], [595418420071505920, 1, 1.0], [593338052686151680, 1, 1.0], [595474950841970688, 1, 1.0], [592948289844031488, 1, 1.0], [593158329314213888, 1, 1.0], [593305236351098880, 1, 1.0], [595864776724484096, 1, 1.0], [593143705713807360, 1, 1.0], [593715559297978368, 1, 1.0], [593805744362889217, 1, 1.0], [595162671521013760, 1, 1.0], [593988794837118978, 1, 1.0], [594831606189285376, 1, 1.0], [593262798924197889, 1, 1.0], [593185970117193728, 1, 1.0], [593801156226224128, 1, 1.0], [593011111982534657, 1, 1.0], [593745793418334210, 1, 1.0], [595969744290779137, 1, 1.0], [592907000411004930, 1, 1.0], [592993769873494016, 1, 1.0], [593647037628854273, 1, 1.0], [593680460976291840, 1, 1.0], [593705525541470208, 1, 1.0], [594085594453639168, 1, 1.0], [595110417984135168, 1, 1.0], [593056467512504320, 1, 1.0], [592892823294365696, 1, 1.0], [593671220035391489, 1, 1.0], [594021012833861632, 1, 1.0], [594420423338663936, 1, 1.0], [593412337366732800, 1, 1.0], [595680776634662912, 1, 1.0], [593437352036413440, 1, 1.0], [592948772767932416, 1, 1.0], [592940006643118081, 1, 1.0], [592751043164938240, 1, 1.0], [595190595192164352, 1, 1.0], [594010526281150464, 1, 1.0], [594335723571978240, 1, 1.0], [593096108483616769, 1, 1.0], [593788779044941824, 1, 1.0], [593672911321485312, 1, 1.0], [592702488307970048, 1, 1.0], [594453243910033408, 1, 1.0], [592761922916876288, 1, 1.0], [593964052885307392, 1, 1.0], [592942695514902529, 1, 1.0], [596776890163208192, 1, 1.0], [594044820898754560, 1, 1.0], [597262790953414658, 1, 1.0], [597340768810983425, 1, 1.0], [594379794545909760, 1, 1.0], [592712844451434496, 1, 1.0], [594091541876101120, 1, 1.0], [593239774627897344, 1, 1.0], [593114034611757056, 1, 1.0], [593027468463775744, 1, 1.0], [593941949112979457, 1, 1.0], [594867006223978496, 1, 1.0], [593337397351321601, 1, 1.0], [593720953949048832, 1, 1.0], [592915520954839041, 1, 1.0], [594456460186128385, 1, 1.0], [593812883563118592, 1, 1.0], [593790507706425345, 1, 1.0], [593368056077754368, 1, 1.0], [594574669014966272, 1, 1.0], [597059598495797248, 1, 1.0], [592723609422065664, 1, 1.0], [595984426141491200, 1, 1.0], [594412137713303553, 1, 1.0], [593430881403932672, 1, 1.0], [595050046275518464, 1, 1.0], [595168142806028288, 1, 1.0], [593376963215032320, 1, 1.0], [593712885525655552, 1, 1.0], [596884380506673152, 1, 1.0], [594761389778014208, 1, 1.0], [593660572358455296, 1, 1.0], [594381921108525057, 1, 1.0], [593969634002350080, 1, 1.0], [593373652764069889, 1, 1.0], [593439526460071936, 1, 1.0], [593282412462940160, 1, 1.0], [593458302945611777, 1, 1.0], [594337853275906048, 1, 1.0], [593037713428721665, 1, 1.0], [592915598981619712, 1, 1.0], [593288072982179840, 1, 1.0], [593052501068390400, 1, 1.0], [593442445464973312, 1, 1.0], [596667131351011329, 1, 1.0], [594044768314912769, 1, 1.0], [593726830189809664, 1, 1.0], [593176594350374912, 1, 1.0], [593069740496703489, 1, 1.0], [596257836662816768, 1, 1.0], [596362153474437120, 1, 1.0], [593058388927348737, 1, 1.0], [597346193216131072, 1, 1.0], [595085378526150659, 1, 1.0], [596580298072035329, 1, 1.0], [593278558320988161, 1, 1.0], [592764199031406593, 1, 1.0], [594324445176594433, 1, 1.0], [592727118766862336, 1, 1.0], [595453292957806592, 1, 1.0], [592756205627547649, 1, 1.0], [594765520529821696, 1, 1.0], [593276326779293696, 1, 1.0], [597383070178627585, 1, 1.0], [596472085024624640, 1, 1.0], [593056236817387520, 1, 1.0], [594382916416765952, 1, 1.0], [594513644244852736, 1, 1.0], [596338923061653504, 1, 1.0], [596998548559794177, 1, 1.0], [592717497805201408, 1, 1.0], [595540604454469632, 1, 1.0], [593589291273486336, 1, 1.0], [595094553868152832, 1, 1.0], [593603982410514432, 1, 1.0], [593475170704236544, 1, 1.0], [593079727847407616, 1, 1.0], [596529044809650176, 1, 1.0], [593846138601545729, 1, 1.0], [595852212624035841, 1, 1.0], [593305106944106496, 1, 1.0], [592956917187620865, 1, 1.0], [594377676892299264, 1, 1.0], [594880370736111616, 1, 1.0], [595489991398064129, 1, 1.0], [592801094088192000, 1, 1.0], [595411403617476609, 1, 1.0], [595058580631388160, 1, 1.0], [593086669793980416, 1, 1.0], [593691795365691394, 1, 1.0], [595578276069781504, 1, 1.0], [593461990976172033, 1, 1.0], [594695100598394882, 1, 1.0], [596654265558372352, 1, 1.0], [595990482909466624, 1, 1.0], [596321859248922624, 1, 1.0]]\n"
     ]
    }
   ],
   "source": [
    "from operator import itemgetter\n",
    "output=[]\n",
    "out_need=[]\n",
    "out_avail=[]\n",
    "for i in range(0,len(y_pred)):\n",
    "    output.append([testset['id'][i],y_pred[i],y_prob[i][y_pred[i]]])\n",
    "    if y_pred[i]==1:\n",
    "        out_need.append([testset['id'][i],y_pred[i],y_prob[i][y_pred[i]]])\n",
    "    if y_pred[i]==2:\n",
    "        out_avail.append([testset['id'][i],y_pred[i],y_prob[i][y_pred[i]]])\n",
    "\n",
    "sorted(out_need,key=lambda tup: tup[2],reverse=True)\n",
    "sorted(out_avail,key=lambda tup: tup[2],reverse=True)\n",
    "print (out_need)\n",
    "#print (out_avail)"
   ]
  },
  {
   "cell_type": "code",
   "execution_count": null,
   "metadata": {
    "collapsed": true
   },
   "outputs": [],
   "source": []
  },
  {
   "cell_type": "code",
   "execution_count": 22,
   "metadata": {
    "collapsed": true
   },
   "outputs": [],
   "source": [
    "import csv\n",
    "with open(\"LabelledTestDataset.csv\",\"w+\") as f:\n",
    "    writer=csv.writer(f,delimiter=',')\n",
    "    writer.writerow(['id','text','class','prob'])\n",
    "    for i in range(0,len(y_pred)):\n",
    "        writer.writerow([testset['id'][i],testset['text'][i],y_pred[i],y_prob[i][y_pred[i]]])\n",
    "f.close()   "
   ]
  },
  {
   "cell_type": "code",
   "execution_count": null,
   "metadata": {
    "collapsed": true
   },
   "outputs": [],
   "source": []
  },
  {
   "cell_type": "code",
   "execution_count": 23,
   "metadata": {
    "collapsed": false
   },
   "outputs": [],
   "source": [
    "with open(\"outputPhase1.txt\",\"w+\") as f:\n",
    "    for i in range(0,len(out_avail)):\n",
    "        f.write(\"Nepal-Avail \"+\"Q0 \"+str(out_avail[i][0])+\" \"+str(i+1)+\" \"+str(out_avail[i][2])+\" iiests_IRMiDis_FIRE2017_1\"+\"\\n\")\n",
    "    for i in range(0,len(out_need)):\n",
    "        f.write(\"Nepal-Need \"+\"Q0 \"+str(out_need[i][0])+\" \"+str(i+1)+\" \"+str(out_need[i][2])+\" iiests_IRMiDis_FIRE2017_1\"+\"\\n\")\n",
    "f.close()       "
   ]
  },
  {
   "cell_type": "code",
   "execution_count": null,
   "metadata": {
    "collapsed": true
   },
   "outputs": [],
   "source": []
  },
  {
   "cell_type": "code",
   "execution_count": null,
   "metadata": {
    "collapsed": true
   },
   "outputs": [],
   "source": []
  },
  {
   "cell_type": "code",
   "execution_count": null,
   "metadata": {
    "collapsed": true
   },
   "outputs": [],
   "source": []
  }
 ],
 "metadata": {
  "anaconda-cloud": {},
  "kernelspec": {
   "display_name": "Python [conda root]",
   "language": "python",
   "name": "conda-root-py"
  },
  "language_info": {
   "codemirror_mode": {
    "name": "ipython",
    "version": 3
   },
   "file_extension": ".py",
   "mimetype": "text/x-python",
   "name": "python",
   "nbconvert_exporter": "python",
   "pygments_lexer": "ipython3",
   "version": "3.5.2"
  }
 },
 "nbformat": 4,
 "nbformat_minor": 1
}
