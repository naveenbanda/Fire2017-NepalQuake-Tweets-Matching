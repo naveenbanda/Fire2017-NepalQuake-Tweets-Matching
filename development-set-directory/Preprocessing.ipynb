{
 "cells": [
  {
   "cell_type": "code",
   "execution_count": 1,
   "metadata": {
    "collapsed": true
   },
   "outputs": [],
   "source": [
    "import pandas as pd\n",
    "import matplotlib.pyplot as plt\n",
    "import numpy as np"
   ]
  },
  {
   "cell_type": "code",
   "execution_count": 2,
   "metadata": {
    "collapsed": false
   },
   "outputs": [
    {
     "name": "stdout",
     "output_type": "stream",
     "text": [
      "(16602, 3)\n",
      "16602\n"
     ]
    }
   ],
   "source": [
    "dataset=pd.read_csv(\"dataset.csv\")\n",
    "print(dataset.shape)\n",
    "data_size=len(dataset)\n",
    "print (data_size)"
   ]
  },
  {
   "cell_type": "code",
   "execution_count": 127,
   "metadata": {
    "collapsed": false
   },
   "outputs": [],
   "source": [
    "import re\n",
    "import nltk\n",
    "from urllib.parse import urlparse\n",
    "#nltk.download('stopwords')\n",
    "from nltk.corpus import stopwords\n",
    "from nltk.stem.porter import PorterStemmer\n",
    "\n",
    "corpus=[]\n",
    "\n",
    "for i in range(0,data_size):\n",
    "    tweet=dataset['text'][i]\n",
    "    \n",
    "    tweet = re.sub('[^a-zA-Z]', ' ', dataset['text'][i])\n",
    "    tweet=tweet.lower()\n",
    "    tweet=tweet.split()\n",
    "    ps=PorterStemmer()\n",
    "    tweet=[ps.stem(word) for word in tweet if word not in set(stopwords.words('english')) and len(word)>2]\n",
    "    tweet=' '.join(tweet)\n",
    "    corpus.append(tweet)\n",
    "    \n",
    "    "
   ]
  },
  {
   "cell_type": "code",
   "execution_count": 128,
   "metadata": {
    "collapsed": true
   },
   "outputs": [],
   "source": [
    "corpus_temp=corpus"
   ]
  },
  {
   "cell_type": "code",
   "execution_count": 129,
   "metadata": {
    "collapsed": true
   },
   "outputs": [],
   "source": [
    "corpus=corpus_temp"
   ]
  },
  {
   "cell_type": "code",
   "execution_count": 130,
   "metadata": {
    "collapsed": false
   },
   "outputs": [
    {
     "name": "stdout",
     "output_type": "stream",
     "text": [
      "1050357\n",
      "nepal nsent whatsapp http cla kaa\n"
     ]
    }
   ],
   "source": [
    "words=[]\n",
    "for i in corpus:\n",
    "    for word in i:\n",
    "        words.append(i)\n",
    "print (len(words))\n",
    "print ((corpus[0]))"
   ]
  },
  {
   "cell_type": "code",
   "execution_count": 131,
   "metadata": {
    "collapsed": false
   },
   "outputs": [],
   "source": [
    "import collections\n",
    "counter=collections.Counter(words)\n",
    "common=counter.most_common(50)\n",
    "common_words=[]\n",
    "for i in range(0,50):\n",
    "    wo=common[i][0].split()\n",
    "    for w in wo:\n",
    "        common_words.append(w)"
   ]
  },
  {
   "cell_type": "code",
   "execution_count": null,
   "metadata": {
    "collapsed": true
   },
   "outputs": [],
   "source": []
  },
  {
   "cell_type": "code",
   "execution_count": 132,
   "metadata": {
    "collapsed": false
   },
   "outputs": [
    {
     "name": "stdout",
     "output_type": "stream",
     "text": [
      "585\n",
      "358\n",
      "['right', 'odisha', 'held', 'satguru', 'gandhi', 'post', 'growth', 'blood', 'forward', 'neetuupadhyay', 'give', 'rajasthan', 'understandin', 'ccsqoqbz', 'cow', 'pondychrri', 'msghelpearthquakevictim', 'east', 'disgrac', 'poin', 'sadhvi', 'sikhism', 'iamsrk', 'visit', 'pl', 'offer', 'non', 'fallen', 'rajya', 'love', 'countri', 'warn', 'nearthquak', 'selfless', 'complement', 'suicid', 'fund', 'text', 'break', 'indiatoday', 'bless', 'donat', 'ilariaurbinati', 'come', 'moron', 'thi', 'help', 'sinceer', 'friendli', 'bike', 'gurdeepinsan', 'sakshi', 'msghe', 'meal', 'relief', 'worst', 'allow', 'apjabdulkalam', 'wing', 'golden', 'ministri', 'across', 'indiawithnep', 'manishtamak', 'govt', 'volunt', 'remind', 'mimarathinew', 'ipckf', 'rememb', 'indianexpress', 'amp', 'namo', 'medianorm', 'word', 'heart', 'pac', 'bihar', 'aasra', 'expect', 'chairman', 'anxieti', 'derasachasauda', 'highest', 'magic', 'miss', 'hit', 'pwrful', 'media', 'madhumarasini', 'hcz', 'murder', 'yard', 'servic', 'low', 'research', 'visibl', 'wreck', 'part', 'world', 'sanjaybafna', 'link', 'di', 'eastern', 'ground', 'gurudwara', 'resilienc', 'ord', 'ekendra', 'must', 'insan', 'cpi', 'hahahahhahahhaha', 'local', 'north', 'gujarat', 'kudo', 'mp', 'anitajoshua', 'jii', 'alamgirizvi', 'earthquak', 'check', 'templ', 'pmoindia', 'nepalquak', 'show', 'drunkvinodmehta', 'massiv', 'due', 'throb', 'grief', 'loss', 'janamejayan', 'utl', 'lakh', 'modigovern', 'donor', 'pkxlzreb', 'person', 'occurrenc', 'shahidkapoor', 'dhan', 'pogcl', 'appeal', 'confirm', 'airlift', 'financ', 'event', 'cnni', 'wait', 'area', 'msghelpsearthquakevictim', 'pvindian', 'ijaideep', 'handl', 'msghelpearthquak', 'properti', 'himalaya', 'htt', 'track', 'aid', 'angel', 'rescu', 'shweta', 'sitaram', 'neighbour', 'next', 'locat', 'nepal', 'busi', 'unit', 'yechuri', 'spread', 'googl', 'ntsunami', 'che', 'philip', 'zczebzfb', 'crack', 'feku', 'powr', 'tanuj', 'finder', 'team', 'nriot', 'sleepless', 'hammond', 'garg', 'tera', 'eat', 'farmer', 'kedarnath', 'plane', 'children', 'freehrd', 'felt', 'ksushma', 'kill', 'pitaji', 'wid', 'work', 'http', 'nepalearthquak', 'sabha', 'mnomic', 'even', 'food', 'shock', 'read', 'friend', 'mlkhattar', 'laugh', 'global', 'hsukovaftq', 'dss', 'run', 'spoonia', 'sad', 'rapid', 'plzzzz', 'sooo', 'vri', 'tulsidasbhoit', 'watsan', 'cut', 'expressfrontpag', 'chennai', 'ndrf', 'send', 'news', 'pack', 'hindutva', 'gurmeetramrahim', 'year', 'land', 'kanimozhi', 'anandmahindra', 'safeti', 'nread', 'ravindraambekar', 'aadmi', 'deserv', 'dmk', 'live', 'foreign', 'bhardwaj', 'icashmir', 'sath', 'jharkhand', 'via', 'prachi', 'ngolden', 'mahparamushtaq', 'bainjal', 'guru', 'realli', 'offic', 'pleas', 'assam', 'one', 'appreciat', 'nribbon', 'say', 'launch', 'get', 'havoc', 'armi', 'alert', 'shreerangkhar', 'includ', 'deepli', 'gajrajinsan', 'effort', 'bengal', 'everest', 'kathmandu', 'johngreen', 'still', 'india', 'savethechildren', 'grace', 'disast', 'facebook', 'contribut', 'support', 'magnitud', 'realpreityzinta', 'meet', 'tent', 'mani', 'hectar', 'manag', 'develop', 'action', 'valu', 'respect', 'sagarikaghos', 'aftr', 'condol', 'load', 'googleindia', 'dear', 'victim', 'riaztheboss', 'good', 'whr', 'nflood', 'instanc', 'maharaj', 'depict', 'tremor', 'ekta', 'hey', 'drspagarw', 'sever', 'mbpztxkqwu', 'gurmeetra', 'guindi', 'secretari', 'dheeruinsan', 'pictur', 'need', 'northern', 'vadapalani', 'rattl', 'well', 'daili', 'foreignoffic', 'measur', 'expedit', 'drbsinsa', 'rock', 'readi', 'high', 'msghelpea', 'redcross', 'pic', 'gurdwara', 'respond', 'leader', 'etc', 'yday', 'rahul', 'nfor', 'affect', 'exec', 'aaam', 'simmilar', 'urg', 'rekha', 'water', 'suppli', 'strong', 'delhi', 'indian', 'ishaanstwitr', 'famili']\n"
     ]
    }
   ],
   "source": [
    "print (len(common_words))\n",
    "common_words=list(set(common_words))\n",
    "print (len(common_words))\n",
    "print (common_words)"
   ]
  },
  {
   "cell_type": "code",
   "execution_count": 133,
   "metadata": {
    "collapsed": true
   },
   "outputs": [],
   "source": [
    "imp_words=['medic','need','give','relief','fund','food','donat','aid','water','meal','send','offer','financ','blood']\n"
   ]
  },
  {
   "cell_type": "code",
   "execution_count": 134,
   "metadata": {
    "collapsed": false
   },
   "outputs": [
    {
     "name": "stdout",
     "output_type": "stream",
     "text": [
      "345\n"
     ]
    }
   ],
   "source": [
    "common_words=[i for i in common_words if i not in imp_words]\n",
    "print (len(common_words))"
   ]
  },
  {
   "cell_type": "code",
   "execution_count": 137,
   "metadata": {
    "collapsed": false
   },
   "outputs": [],
   "source": [
    "final_corpus=[]\n",
    "for i in corpus:\n",
    "    final_corpus.append(' '.join([w for w in i.split() if w not in common_words]))"
   ]
  },
  {
   "cell_type": "code",
   "execution_count": 138,
   "metadata": {
    "collapsed": false
   },
   "outputs": [
    {
     "name": "stdout",
     "output_type": "stream",
     "text": [
      "631201\n"
     ]
    }
   ],
   "source": [
    "words=[]\n",
    "for i in final_corpus:\n",
    "    for word in i:\n",
    "        words.append(i)\n",
    "print (len(words))"
   ]
  },
  {
   "cell_type": "code",
   "execution_count": 139,
   "metadata": {
    "collapsed": false
   },
   "outputs": [
    {
     "name": "stdout",
     "output_type": "stream",
     "text": [
      "16602\n",
      "14252\n",
      "14252\n"
     ]
    }
   ],
   "source": [
    "Y=dataset.iloc[:,2].values\n",
    "Y=list(Y)\n",
    "print (len(final_corpus))\n",
    "seen = set()\n",
    "result = []\n",
    "removed_indices=[]\n",
    "for i in range(0,data_size):\n",
    "    if final_corpus[i] not in seen:\n",
    "        seen.add(final_corpus[i])\n",
    "        result.append(final_corpus[i])\n",
    "    else:\n",
    "        removed_indices.insert(0,i)\n",
    "final_corpus=result\n",
    "for i in removed_indices:\n",
    "    del(Y[i])\n",
    "print (len(final_corpus))\n",
    "print (len(Y))"
   ]
  },
  {
   "cell_type": "code",
   "execution_count": 140,
   "metadata": {
    "collapsed": false
   },
   "outputs": [
    {
     "name": "stdout",
     "output_type": "stream",
     "text": [
      "875\n"
     ]
    }
   ],
   "source": [
    "count=0\n",
    "for i in Y:\n",
    "    if i==2 or i==1:\n",
    "        count+=1\n",
    "print (count)\n"
   ]
  },
  {
   "cell_type": "code",
   "execution_count": 141,
   "metadata": {
    "collapsed": false
   },
   "outputs": [
    {
     "name": "stdout",
     "output_type": "stream",
     "text": [
      "875\n"
     ]
    }
   ],
   "source": [
    "delIndex=[]\n",
    "l=len(Y)\n",
    "c=0\n",
    "for i in range(0,l):\n",
    "    if(Y[i]==0):\n",
    "        if(c==count):\n",
    "            delIndex=[i]+delIndex\n",
    "        else:\n",
    "            c+=1\n",
    "for i in delIndex:\n",
    "    final_corpus.pop(i)\n",
    "    Y.pop(i)\n",
    "print(c)"
   ]
  },
  {
   "cell_type": "code",
   "execution_count": 142,
   "metadata": {
    "collapsed": false
   },
   "outputs": [
    {
     "name": "stdout",
     "output_type": "stream",
     "text": [
      "1750\n",
      "1750\n"
     ]
    }
   ],
   "source": [
    "print(len(final_corpus))\n",
    "print(len(Y))"
   ]
  },
  {
   "cell_type": "code",
   "execution_count": 143,
   "metadata": {
    "collapsed": true
   },
   "outputs": [],
   "source": [
    "from sklearn.cross_validation import train_test_split\n",
    "X_train,X_test,Y_train,Y_test=train_test_split(final_corpus,Y,test_size=0.20,random_state=0)\n"
   ]
  },
  {
   "cell_type": "code",
   "execution_count": 149,
   "metadata": {
    "collapsed": false
   },
   "outputs": [
    {
     "name": "stdout",
     "output_type": "stream",
     "text": [
      "[[169   4   8]\n",
      " [ 13  16   6]\n",
      " [ 23   2 109]]\n"
     ]
    }
   ],
   "source": [
    "from sklearn.pipeline import Pipeline,FeatureUnion\n",
    "from sklearn import feature_selection\n",
    "import numpy as np\n",
    "from sklearn.feature_extraction.text import CountVectorizer\n",
    "from sklearn.naive_bayes import MultinomialNB\n",
    "from sklearn.svm import LinearSVC\n",
    "from sklearn import tree\n",
    "from sklearn.feature_extraction.text import TfidfTransformer,TfidfVectorizer\n",
    "from sklearn import svm\n",
    "\n",
    "LinearSVC1 = LinearSVC(tol=1e-4,  C = 0.10000000000000001)\n",
    "f5 = feature_selection.RFE(estimator=LinearSVC1, n_features_to_select=500, step=1)\n",
    "\n",
    "pipeline=Pipeline([\n",
    "    #('vectorizer',  CountVectorizer()),\n",
    "    ('features', FeatureUnion([\n",
    "       ('tfidf', TfidfVectorizer(ngram_range=(1, 2), max_features= 4000))])), \n",
    "    ('rfe_feature_selection', f5),\n",
    "    ('classifier', LinearSVC1),\n",
    "    ])\n",
    "    #('tfidf_transformer',  TfidfTransformer()),\n",
    "    #('classifier',  svm.SVC())\n",
    "    #('classifier',  tree.DecisionTreeClassifier()) \n",
    "    #])\n",
    "pipeline.fit(X_train,Y_train)\n",
    "y_pred=pipeline.predict(X_test)\n",
    "\n",
    "from sklearn.metrics import confusion_matrix\n",
    "cm = confusion_matrix(Y_test, y_pred)\n",
    "print (cm)"
   ]
  },
  {
   "cell_type": "code",
   "execution_count": 150,
   "metadata": {
    "collapsed": false
   },
   "outputs": [
    {
     "name": "stdout",
     "output_type": "stream",
     "text": [
      "0.84\n"
     ]
    }
   ],
   "source": [
    "from sklearn.metrics import accuracy_score\n",
    "print (accuracy_score(Y_test,y_pred))"
   ]
  },
  {
   "cell_type": "code",
   "execution_count": 14,
   "metadata": {
    "collapsed": false
   },
   "outputs": [],
   "source": [
    "support=pipeline.named_steps['rfe_feature_selection'].support_\n",
    "feature_names = pipeline.named_steps['features'].get_feature_names()"
   ]
  },
  {
   "cell_type": "code",
   "execution_count": 15,
   "metadata": {
    "collapsed": false
   },
   "outputs": [
    {
     "data": {
      "text/plain": [
       "True"
      ]
     },
     "execution_count": 15,
     "metadata": {},
     "output_type": "execute_result"
    }
   ],
   "source": [
    "import graphviz\n",
    "import pydotplus\n",
    "from sklearn import tree\n",
    "from sklearn.externals.six import StringIO\n",
    "dot_data = StringIO()\n",
    "tree.export_graphviz(pipeline.named_steps['classifier'],out_file=dot_data,feature_names=feature_names,class_names=['0','1','2'],filled=True, rounded=True,special_characters=True) \n",
    "pydotplus.graph_from_dot_data(dot_data.getvalue()).write_png(\"tree.png\")"
   ]
  },
  {
   "cell_type": "code",
   "execution_count": null,
   "metadata": {
    "collapsed": true
   },
   "outputs": [],
   "source": []
  },
  {
   "cell_type": "code",
   "execution_count": null,
   "metadata": {
    "collapsed": false
   },
   "outputs": [],
   "source": []
  },
  {
   "cell_type": "code",
   "execution_count": null,
   "metadata": {
    "collapsed": true
   },
   "outputs": [],
   "source": []
  },
  {
   "cell_type": "code",
   "execution_count": null,
   "metadata": {
    "collapsed": true
   },
   "outputs": [],
   "source": []
  },
  {
   "cell_type": "code",
   "execution_count": null,
   "metadata": {
    "collapsed": true
   },
   "outputs": [],
   "source": []
  },
  {
   "cell_type": "code",
   "execution_count": null,
   "metadata": {
    "collapsed": true
   },
   "outputs": [],
   "source": []
  },
  {
   "cell_type": "code",
   "execution_count": null,
   "metadata": {
    "collapsed": true
   },
   "outputs": [],
   "source": []
  },
  {
   "cell_type": "code",
   "execution_count": null,
   "metadata": {
    "collapsed": true
   },
   "outputs": [],
   "source": []
  },
  {
   "cell_type": "code",
   "execution_count": null,
   "metadata": {
    "collapsed": true
   },
   "outputs": [],
   "source": []
  },
  {
   "cell_type": "code",
   "execution_count": null,
   "metadata": {
    "collapsed": true
   },
   "outputs": [],
   "source": []
  },
  {
   "cell_type": "code",
   "execution_count": null,
   "metadata": {
    "collapsed": true
   },
   "outputs": [],
   "source": []
  },
  {
   "cell_type": "code",
   "execution_count": null,
   "metadata": {
    "collapsed": true
   },
   "outputs": [],
   "source": []
  },
  {
   "cell_type": "code",
   "execution_count": null,
   "metadata": {
    "collapsed": true
   },
   "outputs": [],
   "source": []
  },
  {
   "cell_type": "code",
   "execution_count": null,
   "metadata": {
    "collapsed": false
   },
   "outputs": [],
   "source": []
  },
  {
   "cell_type": "code",
   "execution_count": null,
   "metadata": {
    "collapsed": true
   },
   "outputs": [],
   "source": []
  },
  {
   "cell_type": "code",
   "execution_count": null,
   "metadata": {
    "collapsed": true
   },
   "outputs": [],
   "source": []
  },
  {
   "cell_type": "code",
   "execution_count": null,
   "metadata": {
    "collapsed": true
   },
   "outputs": [],
   "source": []
  },
  {
   "cell_type": "code",
   "execution_count": null,
   "metadata": {
    "collapsed": true
   },
   "outputs": [],
   "source": []
  },
  {
   "cell_type": "code",
   "execution_count": null,
   "metadata": {
    "collapsed": true
   },
   "outputs": [],
   "source": []
  },
  {
   "cell_type": "code",
   "execution_count": null,
   "metadata": {
    "collapsed": true
   },
   "outputs": [],
   "source": []
  },
  {
   "cell_type": "code",
   "execution_count": null,
   "metadata": {
    "collapsed": false
   },
   "outputs": [],
   "source": []
  },
  {
   "cell_type": "code",
   "execution_count": null,
   "metadata": {
    "collapsed": true
   },
   "outputs": [],
   "source": []
  },
  {
   "cell_type": "code",
   "execution_count": null,
   "metadata": {
    "collapsed": true
   },
   "outputs": [],
   "source": []
  },
  {
   "cell_type": "code",
   "execution_count": null,
   "metadata": {
    "collapsed": true
   },
   "outputs": [],
   "source": []
  },
  {
   "cell_type": "code",
   "execution_count": null,
   "metadata": {
    "collapsed": true
   },
   "outputs": [],
   "source": []
  },
  {
   "cell_type": "code",
   "execution_count": null,
   "metadata": {
    "collapsed": true
   },
   "outputs": [],
   "source": []
  },
  {
   "cell_type": "code",
   "execution_count": null,
   "metadata": {
    "collapsed": true
   },
   "outputs": [],
   "source": []
  },
  {
   "cell_type": "code",
   "execution_count": null,
   "metadata": {
    "collapsed": false
   },
   "outputs": [],
   "source": []
  },
  {
   "cell_type": "code",
   "execution_count": null,
   "metadata": {
    "collapsed": true
   },
   "outputs": [],
   "source": []
  },
  {
   "cell_type": "code",
   "execution_count": null,
   "metadata": {
    "collapsed": true
   },
   "outputs": [],
   "source": []
  },
  {
   "cell_type": "code",
   "execution_count": null,
   "metadata": {
    "collapsed": true
   },
   "outputs": [],
   "source": []
  },
  {
   "cell_type": "code",
   "execution_count": null,
   "metadata": {
    "collapsed": true
   },
   "outputs": [],
   "source": []
  },
  {
   "cell_type": "code",
   "execution_count": null,
   "metadata": {
    "collapsed": true
   },
   "outputs": [],
   "source": []
  },
  {
   "cell_type": "code",
   "execution_count": null,
   "metadata": {
    "collapsed": true
   },
   "outputs": [],
   "source": []
  },
  {
   "cell_type": "code",
   "execution_count": 22,
   "metadata": {
    "collapsed": true
   },
   "outputs": [],
   "source": []
  },
  {
   "cell_type": "code",
   "execution_count": null,
   "metadata": {
    "collapsed": true
   },
   "outputs": [],
   "source": []
  },
  {
   "cell_type": "code",
   "execution_count": null,
   "metadata": {
    "collapsed": true
   },
   "outputs": [],
   "source": []
  },
  {
   "cell_type": "code",
   "execution_count": null,
   "metadata": {
    "collapsed": true
   },
   "outputs": [],
   "source": []
  },
  {
   "cell_type": "code",
   "execution_count": null,
   "metadata": {
    "collapsed": true
   },
   "outputs": [],
   "source": []
  },
  {
   "cell_type": "code",
   "execution_count": null,
   "metadata": {
    "collapsed": true
   },
   "outputs": [],
   "source": []
  },
  {
   "cell_type": "code",
   "execution_count": null,
   "metadata": {
    "collapsed": false
   },
   "outputs": [],
   "source": []
  },
  {
   "cell_type": "code",
   "execution_count": null,
   "metadata": {
    "collapsed": true
   },
   "outputs": [],
   "source": []
  },
  {
   "cell_type": "code",
   "execution_count": null,
   "metadata": {
    "collapsed": true
   },
   "outputs": [],
   "source": []
  },
  {
   "cell_type": "code",
   "execution_count": null,
   "metadata": {
    "collapsed": true
   },
   "outputs": [],
   "source": []
  },
  {
   "cell_type": "code",
   "execution_count": null,
   "metadata": {
    "collapsed": true
   },
   "outputs": [],
   "source": []
  },
  {
   "cell_type": "code",
   "execution_count": null,
   "metadata": {
    "collapsed": false
   },
   "outputs": [],
   "source": []
  },
  {
   "cell_type": "code",
   "execution_count": null,
   "metadata": {
    "collapsed": true
   },
   "outputs": [],
   "source": []
  },
  {
   "cell_type": "code",
   "execution_count": null,
   "metadata": {
    "collapsed": true
   },
   "outputs": [],
   "source": []
  },
  {
   "cell_type": "code",
   "execution_count": null,
   "metadata": {
    "collapsed": true
   },
   "outputs": [],
   "source": []
  },
  {
   "cell_type": "code",
   "execution_count": null,
   "metadata": {
    "collapsed": true
   },
   "outputs": [],
   "source": []
  },
  {
   "cell_type": "code",
   "execution_count": null,
   "metadata": {
    "collapsed": false
   },
   "outputs": [],
   "source": []
  },
  {
   "cell_type": "code",
   "execution_count": null,
   "metadata": {
    "collapsed": true
   },
   "outputs": [],
   "source": []
  },
  {
   "cell_type": "code",
   "execution_count": null,
   "metadata": {
    "collapsed": true
   },
   "outputs": [],
   "source": []
  },
  {
   "cell_type": "code",
   "execution_count": null,
   "metadata": {
    "collapsed": true
   },
   "outputs": [],
   "source": []
  },
  {
   "cell_type": "code",
   "execution_count": null,
   "metadata": {
    "collapsed": true
   },
   "outputs": [],
   "source": []
  },
  {
   "cell_type": "code",
   "execution_count": null,
   "metadata": {
    "collapsed": true
   },
   "outputs": [],
   "source": []
  },
  {
   "cell_type": "code",
   "execution_count": null,
   "metadata": {
    "collapsed": true
   },
   "outputs": [],
   "source": []
  },
  {
   "cell_type": "code",
   "execution_count": null,
   "metadata": {
    "collapsed": true
   },
   "outputs": [],
   "source": []
  },
  {
   "cell_type": "code",
   "execution_count": null,
   "metadata": {
    "collapsed": true
   },
   "outputs": [],
   "source": []
  },
  {
   "cell_type": "code",
   "execution_count": null,
   "metadata": {
    "collapsed": true
   },
   "outputs": [],
   "source": []
  },
  {
   "cell_type": "code",
   "execution_count": null,
   "metadata": {
    "collapsed": true
   },
   "outputs": [],
   "source": []
  },
  {
   "cell_type": "code",
   "execution_count": null,
   "metadata": {
    "collapsed": true
   },
   "outputs": [],
   "source": []
  },
  {
   "cell_type": "code",
   "execution_count": null,
   "metadata": {
    "collapsed": true
   },
   "outputs": [],
   "source": []
  },
  {
   "cell_type": "code",
   "execution_count": null,
   "metadata": {
    "collapsed": false
   },
   "outputs": [],
   "source": []
  },
  {
   "cell_type": "code",
   "execution_count": null,
   "metadata": {
    "collapsed": true
   },
   "outputs": [],
   "source": []
  },
  {
   "cell_type": "code",
   "execution_count": null,
   "metadata": {
    "collapsed": true
   },
   "outputs": [],
   "source": []
  },
  {
   "cell_type": "code",
   "execution_count": null,
   "metadata": {
    "collapsed": true
   },
   "outputs": [],
   "source": []
  },
  {
   "cell_type": "code",
   "execution_count": null,
   "metadata": {
    "collapsed": true
   },
   "outputs": [],
   "source": []
  },
  {
   "cell_type": "code",
   "execution_count": null,
   "metadata": {
    "collapsed": true
   },
   "outputs": [],
   "source": []
  },
  {
   "cell_type": "code",
   "execution_count": null,
   "metadata": {
    "collapsed": true
   },
   "outputs": [],
   "source": []
  },
  {
   "cell_type": "code",
   "execution_count": null,
   "metadata": {
    "collapsed": true
   },
   "outputs": [],
   "source": []
  },
  {
   "cell_type": "code",
   "execution_count": null,
   "metadata": {
    "collapsed": true
   },
   "outputs": [],
   "source": []
  },
  {
   "cell_type": "code",
   "execution_count": null,
   "metadata": {
    "collapsed": true
   },
   "outputs": [],
   "source": []
  },
  {
   "cell_type": "code",
   "execution_count": null,
   "metadata": {
    "collapsed": true
   },
   "outputs": [],
   "source": []
  },
  {
   "cell_type": "code",
   "execution_count": null,
   "metadata": {
    "collapsed": true
   },
   "outputs": [],
   "source": []
  },
  {
   "cell_type": "code",
   "execution_count": null,
   "metadata": {
    "collapsed": true
   },
   "outputs": [],
   "source": []
  },
  {
   "cell_type": "code",
   "execution_count": null,
   "metadata": {
    "collapsed": true
   },
   "outputs": [],
   "source": []
  },
  {
   "cell_type": "code",
   "execution_count": null,
   "metadata": {
    "collapsed": true
   },
   "outputs": [],
   "source": []
  },
  {
   "cell_type": "code",
   "execution_count": null,
   "metadata": {
    "collapsed": true
   },
   "outputs": [],
   "source": []
  },
  {
   "cell_type": "code",
   "execution_count": null,
   "metadata": {
    "collapsed": true
   },
   "outputs": [],
   "source": []
  },
  {
   "cell_type": "code",
   "execution_count": null,
   "metadata": {
    "collapsed": true
   },
   "outputs": [],
   "source": []
  },
  {
   "cell_type": "code",
   "execution_count": null,
   "metadata": {
    "collapsed": true
   },
   "outputs": [],
   "source": []
  },
  {
   "cell_type": "code",
   "execution_count": null,
   "metadata": {
    "collapsed": true
   },
   "outputs": [],
   "source": []
  },
  {
   "cell_type": "code",
   "execution_count": null,
   "metadata": {
    "collapsed": true
   },
   "outputs": [],
   "source": []
  },
  {
   "cell_type": "code",
   "execution_count": null,
   "metadata": {
    "collapsed": true
   },
   "outputs": [],
   "source": []
  },
  {
   "cell_type": "code",
   "execution_count": null,
   "metadata": {
    "collapsed": true
   },
   "outputs": [],
   "source": []
  },
  {
   "cell_type": "code",
   "execution_count": null,
   "metadata": {
    "collapsed": true
   },
   "outputs": [],
   "source": []
  },
  {
   "cell_type": "code",
   "execution_count": null,
   "metadata": {
    "collapsed": true
   },
   "outputs": [],
   "source": []
  },
  {
   "cell_type": "code",
   "execution_count": null,
   "metadata": {
    "collapsed": true
   },
   "outputs": [],
   "source": []
  },
  {
   "cell_type": "code",
   "execution_count": null,
   "metadata": {
    "collapsed": true
   },
   "outputs": [],
   "source": []
  },
  {
   "cell_type": "code",
   "execution_count": null,
   "metadata": {
    "collapsed": true
   },
   "outputs": [],
   "source": []
  },
  {
   "cell_type": "code",
   "execution_count": null,
   "metadata": {
    "collapsed": true
   },
   "outputs": [],
   "source": []
  },
  {
   "cell_type": "code",
   "execution_count": null,
   "metadata": {
    "collapsed": true
   },
   "outputs": [],
   "source": []
  },
  {
   "cell_type": "code",
   "execution_count": null,
   "metadata": {
    "collapsed": true
   },
   "outputs": [],
   "source": []
  },
  {
   "cell_type": "code",
   "execution_count": null,
   "metadata": {
    "collapsed": true
   },
   "outputs": [],
   "source": []
  },
  {
   "cell_type": "code",
   "execution_count": null,
   "metadata": {
    "collapsed": false
   },
   "outputs": [],
   "source": []
  },
  {
   "cell_type": "code",
   "execution_count": null,
   "metadata": {
    "collapsed": true
   },
   "outputs": [],
   "source": []
  },
  {
   "cell_type": "code",
   "execution_count": null,
   "metadata": {
    "collapsed": true
   },
   "outputs": [],
   "source": []
  },
  {
   "cell_type": "code",
   "execution_count": null,
   "metadata": {
    "collapsed": true
   },
   "outputs": [],
   "source": []
  },
  {
   "cell_type": "code",
   "execution_count": null,
   "metadata": {
    "collapsed": true
   },
   "outputs": [],
   "source": []
  },
  {
   "cell_type": "code",
   "execution_count": null,
   "metadata": {
    "collapsed": true
   },
   "outputs": [],
   "source": []
  },
  {
   "cell_type": "code",
   "execution_count": null,
   "metadata": {
    "collapsed": true
   },
   "outputs": [],
   "source": []
  },
  {
   "cell_type": "code",
   "execution_count": null,
   "metadata": {
    "collapsed": true
   },
   "outputs": [],
   "source": []
  },
  {
   "cell_type": "code",
   "execution_count": null,
   "metadata": {
    "collapsed": true
   },
   "outputs": [],
   "source": []
  }
 ],
 "metadata": {
  "anaconda-cloud": {},
  "kernelspec": {
   "display_name": "Python [conda root]",
   "language": "python",
   "name": "conda-root-py"
  },
  "language_info": {
   "codemirror_mode": {
    "name": "ipython",
    "version": 3
   },
   "file_extension": ".py",
   "mimetype": "text/x-python",
   "name": "python",
   "nbconvert_exporter": "python",
   "pygments_lexer": "ipython3",
   "version": "3.5.2"
  }
 },
 "nbformat": 4,
 "nbformat_minor": 1
}
